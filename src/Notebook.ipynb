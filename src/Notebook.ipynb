{
 "cells": [
  {
   "cell_type": "code",
   "execution_count": 1,
   "metadata": {},
   "outputs": [],
   "source": [
    "from databus import *\n",
    "import pandas as pd"
   ]
  },
  {
   "cell_type": "code",
   "execution_count": 3,
   "metadata": {},
   "outputs": [
    {
     "data": {
      "application/x.jupyter.dataset+json": [
       {
        "data": null,
        "mimeType": "application/x.jupyter.resolve",
        "url": "file:///src/data.csv"
       }
      ]
     },
     "metadata": {},
     "output_type": "display_data"
    }
   ],
   "source": [
    "display_file_dataset(\"src/data.csv\")"
   ]
  },
  {
   "cell_type": "code",
   "execution_count": 2,
   "metadata": {},
   "outputs": [
    {
     "data": {
      "application/x.jupyter.dataset+json": [
       {
        "data": null,
        "mimeType": "application/x.jupyter.resolve",
        "url": "https://raw.githubusercontent.com/cs109/2014_data/master/countries.csv"
       }
      ]
     },
     "metadata": {},
     "output_type": "display_data"
    }
   ],
   "source": [
    "display_url_dataset(\"https://raw.githubusercontent.com/cs109/2014_data/master/countries.csv\")"
   ]
  },
  {
   "cell_type": "code",
   "execution_count": 3,
   "metadata": {},
   "outputs": [
    {
     "data": {
      "application/x.jupyter.dataset+json": [
       {
        "data": "header\nrow",
        "mimeType": "text/csv",
        "url": "tmp:///0"
       },
       {
        "data": "header\nrow",
        "mimeType": "text/csv",
        "url": "tmp:///1"
       },
       {
        "data": "header\nrow",
        "mimeType": "text/csv",
        "url": "tmp:///2"
       },
       {
        "data": "header\nrow",
        "mimeType": "text/csv",
        "url": "tmp:///3"
       },
       {
        "data": "header\nrow",
        "mimeType": "text/csv",
        "url": "tmp:///4"
       },
       {
        "data": "header\nrow",
        "mimeType": "text/csv",
        "url": "tmp:///5"
       },
       {
        "data": "header\nrow",
        "mimeType": "text/csv",
        "url": "tmp:///6"
       },
       {
        "data": "header\nrow",
        "mimeType": "text/csv",
        "url": "tmp:///7"
       },
       {
        "data": "header\nrow",
        "mimeType": "text/csv",
        "url": "tmp:///8"
       },
       {
        "data": "header\nrow",
        "mimeType": "text/csv",
        "url": "tmp:///9"
       }
      ]
     },
     "metadata": {},
     "output_type": "display_data"
    }
   ],
   "source": [
    "display_datasets(*({\"mimeType\": \"text/csv\", \"url\": f\"tmp:///{i}\", \"data\": \"header\\nrow\"} for i in range(10)))"
   ]
  },
  {
   "cell_type": "code",
   "execution_count": 4,
   "metadata": {},
   "outputs": [
    {
     "data": {
      "text/html": [
       "<div>\n",
       "<style scoped>\n",
       "    .dataframe tbody tr th:only-of-type {\n",
       "        vertical-align: middle;\n",
       "    }\n",
       "\n",
       "    .dataframe tbody tr th {\n",
       "        vertical-align: top;\n",
       "    }\n",
       "\n",
       "    .dataframe thead th {\n",
       "        text-align: right;\n",
       "    }\n",
       "</style>\n",
       "<table border=\"1\" class=\"dataframe\">\n",
       "  <thead>\n",
       "    <tr style=\"text-align: right;\">\n",
       "      <th></th>\n",
       "      <th>hi</th>\n",
       "      <th>there</th>\n",
       "    </tr>\n",
       "  </thead>\n",
       "  <tbody>\n",
       "    <tr>\n",
       "      <th>0</th>\n",
       "      <td>1</td>\n",
       "      <td>3</td>\n",
       "    </tr>\n",
       "    <tr>\n",
       "      <th>1</th>\n",
       "      <td>2</td>\n",
       "      <td>4</td>\n",
       "    </tr>\n",
       "  </tbody>\n",
       "</table>\n",
       "</div>"
      ],
      "text/plain": [
       "   hi  there\n",
       "0   1      3\n",
       "1   2      4"
      ]
     },
     "execution_count": 4,
     "metadata": {},
     "output_type": "execute_result"
    }
   ],
   "source": [
    "df = pd.DataFrame({\"hi\": [1, 2], \"there\": [3, 4]})\n",
    "df"
   ]
  },
  {
   "cell_type": "code",
   "execution_count": 5,
   "metadata": {},
   "outputs": [
    {
     "data": {
      "application/x.jupyter.dataset+json": [
       {
        "data": null,
        "mimeType": "application/x.jupyter.resolver",
        "url": "file:///tmp.csv"
       }
      ]
     },
     "metadata": {},
     "output_type": "display_data"
    }
   ],
   "source": [
    "display_pandas_dataset(df)"
   ]
  },
  {
   "cell_type": "code",
   "execution_count": null,
   "metadata": {},
   "outputs": [],
   "source": []
  }
 ],
 "metadata": {
  "kernelspec": {
   "display_name": "Python 3",
   "language": "python",
   "name": "python3"
  },
  "language_info": {
   "codemirror_mode": {
    "name": "ipython",
    "version": 3
   },
   "file_extension": ".py",
   "mimetype": "text/x-python",
   "name": "python",
   "nbconvert_exporter": "python",
   "pygments_lexer": "ipython3",
   "version": "3.6.7"
  }
 },
 "nbformat": 4,
 "nbformat_minor": 2
}
